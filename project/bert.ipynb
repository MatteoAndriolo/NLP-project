{
 "cells": [
  {
   "cell_type": "code",
   "execution_count": 1,
   "metadata": {},
   "outputs": [
    {
     "name": "stdout",
     "output_type": "stream",
     "text": [
      "cpu\n"
     ]
    }
   ],
   "source": [
    "import torch\n",
    "import torch.nn as nn\n",
    "import pandas as pd\n",
    "from transformers import AutoTokenizer\n",
    "\n",
    "tokenizer=AutoTokenizer.from_pretrained('bert-base-uncased')\n",
    "tokenizer.add_tokens([\"<ROOT>\", \"<EMPTY>\"], special_tokens=True)\n",
    "\n",
    "device = torch.device('cuda' if torch.cuda.is_available() else 'cpu')\n",
    "torch.manual_seed(42)\n",
    "print(device)\n",
    "\n",
    "\n",
    "BATCH_SIZE = 32"
   ]
  },
  {
   "attachments": {},
   "cell_type": "markdown",
   "metadata": {},
   "source": [
    "# Data\n"
   ]
  },
  {
   "cell_type": "code",
   "execution_count": 2,
   "metadata": {},
   "outputs": [],
   "source": [
    "def is_projective(tree):\n",
    "    for i in range(len(tree)):\n",
    "        if tree[i] == -1:\n",
    "            continue\n",
    "        left = min(i, tree[i])\n",
    "        right = max(i, tree[i])\n",
    "\n",
    "        for j in range(0, left):\n",
    "            if tree[j] > left and tree[j] < right:\n",
    "                return False\n",
    "        for j in range(left + 1, right):\n",
    "            if tree[j] < left or tree[j] > right:\n",
    "                return False\n",
    "        for j in range(right + 1, len(tree)):\n",
    "            if tree[j] > left and tree[j] < right:\n",
    "                return False\n",
    "\n",
    "    return True"
   ]
  },
  {
   "cell_type": "code",
   "execution_count": 3,
   "metadata": {},
   "outputs": [
    {
     "data": {
      "text/plain": [
       "{'input_ids': [19204, 17629], 'token_type_ids': [0, 0], 'attention_mask': [1, 1]}"
      ]
     },
     "execution_count": 3,
     "metadata": {},
     "output_type": "execute_result"
    }
   ],
   "source": [
    "tokenizer(\"tokenizer\", add_special_tokens=False)"
   ]
  },
  {
   "cell_type": "code",
   "execution_count": 4,
   "metadata": {},
   "outputs": [
    {
     "name": "stderr",
     "output_type": "stream",
     "text": [
      "Found cached dataset universal_dependencies (/home/matteo/.cache/huggingface/datasets/universal_dependencies/en_lines/2.7.0/1ac001f0e8a0021f19388e810c94599f3ac13cc45d6b5b8c69f7847b2188bdf7)\n",
      "Found cached dataset universal_dependencies (/home/matteo/.cache/huggingface/datasets/universal_dependencies/en_lines/2.7.0/1ac001f0e8a0021f19388e810c94599f3ac13cc45d6b5b8c69f7847b2188bdf7)\n",
      "Found cached dataset universal_dependencies (/home/matteo/.cache/huggingface/datasets/universal_dependencies/en_lines/2.7.0/1ac001f0e8a0021f19388e810c94599f3ac13cc45d6b5b8c69f7847b2188bdf7)\n",
      "Loading cached processed dataset at /home/matteo/.cache/huggingface/datasets/universal_dependencies/en_lines/2.7.0/1ac001f0e8a0021f19388e810c94599f3ac13cc45d6b5b8c69f7847b2188bdf7/cache-f8354f14dcbe18f8.arrow\n",
      "Loading cached processed dataset at /home/matteo/.cache/huggingface/datasets/universal_dependencies/en_lines/2.7.0/1ac001f0e8a0021f19388e810c94599f3ac13cc45d6b5b8c69f7847b2188bdf7/cache-cc45d20ff3a9cc5d.arrow\n",
      "Loading cached processed dataset at /home/matteo/.cache/huggingface/datasets/universal_dependencies/en_lines/2.7.0/1ac001f0e8a0021f19388e810c94599f3ac13cc45d6b5b8c69f7847b2188bdf7/cache-a55471a65140a659.arrow\n"
     ]
    },
    {
     "name": "stdout",
     "output_type": "stream",
     "text": [
      "3176\n",
      "1032\n",
      "1035\n",
      "2922\n",
      "930\n",
      "968\n"
     ]
    }
   ],
   "source": [
    "from datasets import load_dataset\n",
    "\n",
    "train_dataset=load_dataset(\"universal_dependencies\", \"en_lines\", split=\"train\")\n",
    "validation_dataset=load_dataset(\"universal_dependencies\", \"en_lines\", split=\"validation\")\n",
    "test_dataset=load_dataset(\"universal_dependencies\", \"en_lines\", split=\"test\")\n",
    "print(len(train_dataset))\n",
    "print(len(validation_dataset))\n",
    "print(len(test_dataset))\n",
    "\n",
    "\n",
    "# remove non projective\n",
    "train_dataset = train_dataset.filter(lambda x:is_projective([-1]+list(map(int,x['head'])))) \n",
    "validation_dataset = validation_dataset.filter(lambda x:is_projective([-1]+list(map(int,x['head']))))\n",
    "test_dataset = test_dataset.filter(lambda x:is_projective([-1]+list(map(int,x['head']))))\n",
    "print(len(train_dataset))\n",
    "print(len(validation_dataset))\n",
    "print(len(test_dataset))"
   ]
  },
  {
   "cell_type": "code",
   "execution_count": 5,
   "metadata": {},
   "outputs": [],
   "source": [
    "def generate_gold_path(sentence, gold):\n",
    "    from arceagerparser import ArcEager, Oracle\n",
    "    parser = ArcEager(sentence)\n",
    "    oracle = Oracle(parser, gold)\n",
    "\n",
    "    gold_configurations = []\n",
    "    gold_moves = []\n",
    "\n",
    "    while not parser.is_tree_final():\n",
    "        # save configuration - index of token in sentence\n",
    "        configuration = [\n",
    "            parser.stack[ - 1],\n",
    "        ]\n",
    "        if len(parser.buffer) == 0:\n",
    "            configuration.append(-1)\n",
    "        else:\n",
    "            configuration.append(parser.buffer[0])\n",
    "        \n",
    "        # save configuration    \n",
    "        gold_configurations.append(configuration)\n",
    "\n",
    "            # save gold move\n",
    "        if oracle.is_left_arc_gold():\n",
    "            gold_moves.append(0)\n",
    "            parser.left_arc()\n",
    "        elif oracle.is_right_arc_gold():\n",
    "            gold_moves.append(1)\n",
    "            parser.right_arc()\n",
    "        elif oracle.is_shift_gold():\n",
    "            gold_moves.append(2)\n",
    "            parser.shift()\n",
    "        elif oracle.is_reduce_gold():\n",
    "            gold_moves.append(3)\n",
    "            parser.reduce()\n",
    "    \n",
    "    return gold_configurations, gold_moves, \n",
    "\n",
    "def get_configurations(toks, heads, get_gold_path=False):\n",
    "    # put sentence and gold tree in our format\n",
    "        # gold_path and gold_moves are parallel arrays whose elements refer to parsing steps\n",
    "    gold_configurations= (\n",
    "        []\n",
    "    )  # record two topmost stack tokens and first 2 buffer token for current step\n",
    "    gold_moves = (\n",
    "        []\n",
    "    )  # contains oracle (canonical) move for current step: 0 is left, 1 right, 2 shift, 3 reduce\n",
    "    gold_heads=[]\n",
    "    for tokens, head in zip(toks, heads):\n",
    "        conf=[]   \n",
    "        mov=[]\n",
    "\n",
    "        tokens = [\"<ROOT>\"] + tokens\n",
    "        head = [-1] + list(map(int,head))\n",
    "\n",
    "        if get_gold_path:  # only for training\n",
    "            conf, mov=generate_gold_path(tokens, head)\n",
    "            \n",
    "            \n",
    "        gold_configurations.append(conf)\n",
    "        gold_moves.append(mov)\n",
    "        gold_heads.append(head)\n",
    "\n",
    "    return gold_configurations, gold_moves,gold_heads\n",
    "  \n",
    "def match_subtokens(l1, l2):\n",
    "    # Create output list\n",
    "    output = []\n",
    "    # Initialize index for l2\n",
    "    index = 0\n",
    "    # Iterate through l1\n",
    "    for token in l1:\n",
    "        subtoken_indices = []\n",
    "        # Get the indices of the subtokens\n",
    "        while index < len(l2) and (not subtoken_indices or l2[index].startswith(\"#\")):\n",
    "            subtoken_indices.append(index)\n",
    "            index += 1\n",
    "        # Append subtoken indices to output\n",
    "        output.append(subtoken_indices)\n",
    "    return output\n",
    "\n",
    "\n",
    "  \n",
    "def tokens_tokenizer_correspondence(tokens, berttokens):\n",
    "    global tokenizer\n",
    "    correspondences=[]\n",
    "    \n",
    "    for t,bt in zip(tokens, berttokens):\n",
    "        correspondences.append(match_subtokens(t, tokenizer.convert_ids_to_tokens(bt)))\n",
    "    return correspondences\n",
    "            \n",
    "            \n",
    "                \n",
    "    \n",
    "\n",
    "def prepare_batch(batch_data,get_gold_path=False):\n",
    "    global tokenizer\n",
    "    tok_sentences= tokenizer([\"<ROOT> \"+bd[\"text\"] for bd in batch_data], padding=True, return_tensors=\"pt\", add_special_tokens=False ) # FIXME : add ROOT token\n",
    "    configurations, moves, gold = get_configurations(\n",
    "        [bd[\"tokens\"] for bd in batch_data],\n",
    "        [bd[\"head\"] for bd in batch_data],\n",
    "        get_gold_path) \n",
    "    correspondences=tokens_tokenizer_correspondence(\n",
    "        [[\"<ROOT>\"]+bd[\"tokens\"] for bd in batch_data],\n",
    "        tok_sentences[\"input_ids\"])\n",
    "\n",
    "    return tok_sentences, configurations, moves, gold, correspondences\n",
    "\n"
   ]
  },
  {
   "cell_type": "code",
   "execution_count": null,
   "metadata": {},
   "outputs": [],
   "source": []
  },
  {
   "cell_type": "code",
   "execution_count": 6,
   "metadata": {},
   "outputs": [],
   "source": [
    "# processed_sample = tokenizer(train_dataset[\"text\"]) # input_ids token_type_ids attention_mask\n",
    "\n",
    "# processed_sample.update(get_oracledata(train_dataset[\"tokens\"], train_dataset[\"head\"])) # configurations moves\n",
    "\n",
    "# processed_sample.keys()\n"
   ]
  },
  {
   "attachments": {},
   "cell_type": "markdown",
   "metadata": {},
   "source": []
  },
  {
   "attachments": {},
   "cell_type": "markdown",
   "metadata": {},
   "source": [
    "## Dataloader\n"
   ]
  },
  {
   "cell_type": "code",
   "execution_count": 7,
   "metadata": {},
   "outputs": [],
   "source": [
    "train_dataloader = torch.utils.data.DataLoader( # type:ignore\n",
    "  train_dataset,\n",
    "  batch_size=BATCH_SIZE, \n",
    "  shuffle=True,\n",
    "  collate_fn=lambda x: prepare_batch(x, get_gold_path=True)\n",
    ")\n",
    "\n",
    "validation_dataloader = torch.utils.data.DataLoader( # type: ignore\n",
    "  validation_dataset,\n",
    "  batch_size=BATCH_SIZE,\n",
    "  shuffle=True,\n",
    "  collate_fn=lambda x: prepare_batch(x, get_gold_path=True)\n",
    ")\n",
    "\n",
    "test_dataloader = torch.utils.data.DataLoader( # type:ignore\n",
    "  test_dataset,\n",
    "  batch_size=BATCH_SIZE,\n",
    "  shuffle=True,\n",
    "  collate_fn=lambda x: prepare_batch(x, get_gold_path=False)\n",
    ")"
   ]
  },
  {
   "attachments": {},
   "cell_type": "markdown",
   "metadata": {},
   "source": [
    "# NET\n"
   ]
  },
  {
   "cell_type": "code",
   "execution_count": 8,
   "metadata": {},
   "outputs": [],
   "source": [
    "BATCH_SIZE = 32\n",
    "DIM_CONFIG = 2\n",
    "LSTM_ISBI = True\n",
    "BERT_SIZE = 768\n",
    "EMBEDDING_SIZE = BERT_SIZE\n",
    "DIM_CONFIG = 2\n",
    "LSTM_LAYERS = 1\n",
    "MLP_SIZE = 200\n",
    "CLASSES = 4\n",
    "DROPOUT = 0.2\n",
    "EPOCHS = 1 # 30\n",
    "LR = 0.001  # learning rate\n",
    "NUM_LABELS_OUT = 4"
   ]
  },
  {
   "cell_type": "code",
   "execution_count": 10,
   "metadata": {},
   "outputs": [
    {
     "name": "stderr",
     "output_type": "stream",
     "text": [
      "Some weights of the model checkpoint at bert-base-uncased were not used when initializing BertModel: ['cls.predictions.transform.dense.bias', 'cls.predictions.transform.dense.weight', 'cls.predictions.transform.LayerNorm.weight', 'cls.seq_relationship.weight', 'cls.seq_relationship.bias', 'cls.predictions.transform.LayerNorm.bias', 'cls.predictions.bias', 'cls.predictions.decoder.weight']\n",
      "- This IS expected if you are initializing BertModel from the checkpoint of a model trained on another task or with another architecture (e.g. initializing a BertForSequenceClassification model from a BertForPreTraining model).\n",
      "- This IS NOT expected if you are initializing BertModel from the checkpoint of a model that you expect to be exactly identical (initializing a BertForSequenceClassification model from a BertForSequenceClassification model).\n"
     ]
    }
   ],
   "source": [
    "from transformers import AutoModel\n",
    "\n",
    "#modelBert=AutoModel.from_pretrained('bert-base-uncased')\n",
    "\n",
    "class BERTNet(nn.Module):\n",
    "  def __init__(self,device) -> None:\n",
    "    super().__init__()\n",
    "    self.device=device\n",
    "    \n",
    "    self.embeddings = nn.Embedding(\n",
    "        len(tokenizer), EMBEDDING_SIZE, padding_idx=0\n",
    "    )\n",
    "    \n",
    "    self.bert = AutoModel.from_pretrained('bert-base-uncased')\n",
    "    self.bert.resize_token_embeddings(len(tokenizer))\n",
    "    for param in self.bert.parameters():\n",
    "      param.requires_grad = False\n",
    "    self.w1=nn.Linear(DIM_CONFIG*BERT_SIZE, MLP_SIZE)\n",
    "    self.w2=nn.Linear(MLP_SIZE, CLASSES)\n",
    "    self.activation= nn.Tanh()\n",
    "    self.softmax=nn.Softmax(dim=-1)\n",
    "    self.dropout = nn.Dropout(DROPOUT)\n",
    "    \n",
    "  def forward(self, bertInput, configs, correspondencens):\n",
    "    # --------------------------------- BERT  ---------------------------------\n",
    "    #x=[self.dropout(self.embeddings(torch.tensor(s).to(self.device))) for s in bertInput]\n",
    "    bertInput=bertInput.to(self.device)\n",
    "    input_ids=bertInput['input_ids'].to(self.device)\n",
    "    attention_mask=bertInput['attention_mask'].to(self.device)\n",
    "    \n",
    "        # Apply the BERT model. This will return a sequence of hidden-states at the output of the last layer of the model.\n",
    "    outputs = self.bert(input_ids=input_ids, attention_mask=attention_mask)\n",
    "\n",
    "    # Get the last hidden state of the token `[CLS]` for each example. BERT gives this as the first token in the sequence.\n",
    "    h = outputs.last_hidden_state\n",
    "    \n",
    "\n",
    "    # Apply dropout on cls_output (not on the input)\n",
    "    # --------------------------------- LINEAR--------------------------------\n",
    "    def getAvgH(h, corr):\n",
    "      avgH=torch.zeros(BERT_SIZE,requires_grad=False).to(self.device)\n",
    "      for i in corr:\n",
    "        avgH+=h[i]\n",
    "      avgH/=len(corr)\n",
    "      return avgH\n",
    "    \n",
    "    c=0\n",
    "    mlp_input=[]\n",
    "    zero_tensor=torch.zeros(BERT_SIZE,requires_grad=False).to(self.device)\n",
    "    for i, (conf, corr) in enumerate(zip(configs, correspondencens)):\n",
    "      c+=len(conf)\n",
    "      for j in conf:\n",
    "        mlp_input.append(\n",
    "          torch.cat([\n",
    "            zero_tensor if j[0]==-1 else getAvgH(h[i], corr[j[0]]),\n",
    "            zero_tensor if j[1]==-1 else getAvgH(h[i], corr[j[1]])\n",
    "          ])\n",
    "        )\n",
    "    mlp_input=torch.stack(mlp_input)\n",
    "    \n",
    "    out=self.softmax(self.w2(self.activation(self.w1(self.dropout(mlp_input)))))\n",
    "    return out\n",
    "\n",
    "model = BERTNet(device)"
   ]
  },
  {
   "attachments": {},
   "cell_type": "markdown",
   "metadata": {},
   "source": [
    "## run model\n"
   ]
  },
  {
   "cell_type": "code",
   "execution_count": 11,
   "metadata": {},
   "outputs": [
    {
     "name": "stdout",
     "output_type": "stream",
     "text": [
      "Starting Epoch 0\n"
     ]
    }
   ],
   "source": [
    "def train(model, dataloader, criterion, optimizer):\n",
    "    model.train()  # setup model for training mode\n",
    "    total_loss = 0\n",
    "    count = 0\n",
    "    for batch in dataloader:\n",
    "        optimizer.zero_grad()\n",
    "        sentences, paths, moves, trees, correspondences = batch\n",
    "        out = model(sentences, paths, correspondences)\n",
    "        ##out = model(input_ids=sentences['input_ids'].to(device), \n",
    "        ##    attention_mask=sentences['attention_mask'].to(device), \n",
    "        ##    paths)\n",
    "\n",
    "        labels = torch.tensor(sum(moves, [])).to(\n",
    "            device\n",
    "        )  # sum(moves, []) flatten the array\n",
    "        loss = criterion(out, labels)\n",
    "        count += 1\n",
    "        total_loss += loss.item()\n",
    "        loss.backward()\n",
    "        optimizer.step()\n",
    "    return total_loss / count\n",
    "\n",
    "def evaluate(gold, preds):\n",
    "    total = 0\n",
    "    correct = 0\n",
    "    for g, p in zip(gold, preds):\n",
    "        for i in range(1, len(g)):\n",
    "            total += 1\n",
    "            if g[i] == p[i]:\n",
    "                correct += 1\n",
    "    return correct / total\n",
    "\n",
    "def test(model, dataloader):\n",
    "    model.eval()\n",
    "    gold = []\n",
    "    preds = []\n",
    "    for batch in dataloader:\n",
    "        sentences, paths, moves, trees = batch\n",
    "        with torch.no_grad():\n",
    "            pred = model.infere(sentences)\n",
    "            gold += trees\n",
    "            preds += pred\n",
    "    return evaluate(gold, preds)\n",
    "\n",
    "\n",
    "criterion = nn.CrossEntropyLoss()\n",
    "optimizer = torch.optim.Adam(model.parameters(), lr=LR)\n",
    "for epoch in range(EPOCHS):\n",
    "    print(\"Starting Epoch\", epoch)\n",
    "    avg_train_loss = train(model, train_dataloader, criterion, optimizer)\n",
    "    val_uas = test(model, validation_dataloader)\n",
    "    print(\n",
    "        \"Epoch: {:3d} | avg_train_loss: {:5.3f} | dev_uas: {:5.3f} |\".format(\n",
    "            epoch, avg_train_loss, val_uas\n",
    "        )\n",
    "    )\n",
    "    #save the model on pytorch format"
   ]
  }
 ],
 "metadata": {
  "kernelspec": {
   "display_name": "nlp",
   "language": "python",
   "name": "python3"
  },
  "language_info": {
   "codemirror_mode": {
    "name": "ipython",
    "version": 3
   },
   "file_extension": ".py",
   "mimetype": "text/x-python",
   "name": "python",
   "nbconvert_exporter": "python",
   "pygments_lexer": "ipython3",
   "version": "3.11.3"
  },
  "orig_nbformat": 4
 },
 "nbformat": 4,
 "nbformat_minor": 2
}
