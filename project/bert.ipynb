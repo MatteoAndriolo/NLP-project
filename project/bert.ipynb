{
 "cells": [
  {
   "cell_type": "code",
   "execution_count": 2,
   "metadata": {},
   "outputs": [
    {
     "name": "stdout",
     "output_type": "stream",
     "text": [
      "cpu\n"
     ]
    }
   ],
   "source": [
    "import torch\n",
    "import torch.nn as nn\n",
    "import pandas as pd\n",
    "from transformers import AutoTokenizer\n",
    "\n",
    "tokenizer=AutoTokenizer.from_pretrained('bert-base-uncased')\n",
    "tokenizer.add_tokens([\"<ROOT>\", \"<EMPTY>\"], special_tokens=True)\n",
    "\n",
    "device = torch.device('cuda' if torch.cuda.is_available() else 'cpu')\n",
    "torch.manual_seed(42)\n",
    "print(device)\n",
    "\n",
    "\n",
    "BATCH_SIZE = 32"
   ]
  },
  {
   "attachments": {},
   "cell_type": "markdown",
   "metadata": {},
   "source": [
    "# Data\n"
   ]
  },
  {
   "cell_type": "code",
   "execution_count": 3,
   "metadata": {},
   "outputs": [],
   "source": [
    "def is_projective(tree):\n",
    "    for i in range(len(tree)):\n",
    "        if tree[i] == -1:\n",
    "            continue\n",
    "        left = min(i, tree[i])\n",
    "        right = max(i, tree[i])\n",
    "\n",
    "        for j in range(0, left):\n",
    "            if tree[j] > left and tree[j] < right:\n",
    "                return False\n",
    "        for j in range(left + 1, right):\n",
    "            if tree[j] < left or tree[j] > right:\n",
    "                return False\n",
    "        for j in range(right + 1, len(tree)):\n",
    "            if tree[j] > left and tree[j] < right:\n",
    "                return False\n",
    "\n",
    "    return True"
   ]
  },
  {
   "cell_type": "code",
   "execution_count": 4,
   "metadata": {},
   "outputs": [
    {
     "data": {
      "text/plain": [
       "{'input_ids': [19204, 17629], 'token_type_ids': [0, 0], 'attention_mask': [1, 1]}"
      ]
     },
     "execution_count": 4,
     "metadata": {},
     "output_type": "execute_result"
    }
   ],
   "source": [
    "tokenizer(\"tokenizer\", add_special_tokens=False)"
   ]
  },
  {
   "cell_type": "code",
   "execution_count": 5,
   "metadata": {},
   "outputs": [
    {
     "name": "stderr",
     "output_type": "stream",
     "text": [
      "Found cached dataset universal_dependencies (/home/matteo/.cache/huggingface/datasets/universal_dependencies/en_lines/2.7.0/1ac001f0e8a0021f19388e810c94599f3ac13cc45d6b5b8c69f7847b2188bdf7)\n",
      "Found cached dataset universal_dependencies (/home/matteo/.cache/huggingface/datasets/universal_dependencies/en_lines/2.7.0/1ac001f0e8a0021f19388e810c94599f3ac13cc45d6b5b8c69f7847b2188bdf7)\n",
      "Found cached dataset universal_dependencies (/home/matteo/.cache/huggingface/datasets/universal_dependencies/en_lines/2.7.0/1ac001f0e8a0021f19388e810c94599f3ac13cc45d6b5b8c69f7847b2188bdf7)\n",
      "Loading cached processed dataset at /home/matteo/.cache/huggingface/datasets/universal_dependencies/en_lines/2.7.0/1ac001f0e8a0021f19388e810c94599f3ac13cc45d6b5b8c69f7847b2188bdf7/cache-f8354f14dcbe18f8.arrow\n",
      "Loading cached processed dataset at /home/matteo/.cache/huggingface/datasets/universal_dependencies/en_lines/2.7.0/1ac001f0e8a0021f19388e810c94599f3ac13cc45d6b5b8c69f7847b2188bdf7/cache-cc45d20ff3a9cc5d.arrow\n",
      "Loading cached processed dataset at /home/matteo/.cache/huggingface/datasets/universal_dependencies/en_lines/2.7.0/1ac001f0e8a0021f19388e810c94599f3ac13cc45d6b5b8c69f7847b2188bdf7/cache-a55471a65140a659.arrow\n"
     ]
    },
    {
     "name": "stdout",
     "output_type": "stream",
     "text": [
      "3176\n",
      "1032\n",
      "1035\n",
      "2922\n",
      "930\n",
      "968\n"
     ]
    }
   ],
   "source": [
    "from datasets import load_dataset\n",
    "\n",
    "train_dataset=load_dataset(\"universal_dependencies\", \"en_lines\", split=\"train\")\n",
    "validation_dataset=load_dataset(\"universal_dependencies\", \"en_lines\", split=\"validation\")\n",
    "test_dataset=load_dataset(\"universal_dependencies\", \"en_lines\", split=\"test\")\n",
    "print(len(train_dataset))\n",
    "print(len(validation_dataset))\n",
    "print(len(test_dataset))\n",
    "\n",
    "\n",
    "# remove non projective\n",
    "train_dataset = train_dataset.filter(lambda x:is_projective([-1]+list(map(int,x['head'])))) \n",
    "validation_dataset = validation_dataset.filter(lambda x:is_projective([-1]+list(map(int,x['head']))))\n",
    "test_dataset = test_dataset.filter(lambda x:is_projective([-1]+list(map(int,x['head']))))\n",
    "print(len(train_dataset))\n",
    "print(len(validation_dataset))\n",
    "print(len(test_dataset))"
   ]
  },
  {
   "cell_type": "code",
   "execution_count": 71,
   "metadata": {},
   "outputs": [],
   "source": [
    "def generate_gold_path(sentence, gold):\n",
    "    from arceagerparser import ArcEager, Oracle\n",
    "    parser = ArcEager(sentence)\n",
    "    oracle = Oracle(parser, gold)\n",
    "\n",
    "    gold_configurations = []\n",
    "    gold_moves = []\n",
    "\n",
    "    while not parser.is_tree_final():\n",
    "        # save configuration\n",
    "        configuration = [\n",
    "            parser.stack[ - 1],\n",
    "        ]\n",
    "        if len(parser.buffer) == 0:\n",
    "            configuration.append(-1)\n",
    "        else:\n",
    "            configuration.append(parser.buffer[0])\n",
    "        \n",
    "        # save configuration    \n",
    "        gold_configurations.append(configuration)\n",
    "\n",
    "            # save gold move\n",
    "        if oracle.is_left_arc_gold():\n",
    "            gold_moves.append(0)\n",
    "            parser.left_arc()\n",
    "        elif oracle.is_right_arc_gold():\n",
    "            gold_moves.append(1)\n",
    "            parser.right_arc()\n",
    "        elif oracle.is_shift_gold():\n",
    "            gold_moves.append(2)\n",
    "            parser.shift()\n",
    "        elif oracle.is_reduce_gold():\n",
    "            gold_moves.append(3)\n",
    "            parser.reduce()\n",
    "    \n",
    "    return gold_configurations, gold_moves, \n",
    "\n",
    "def get_configurations(toks, heads, get_gold_path=False):\n",
    "    # put sentence and gold tree in our format\n",
    "        # gold_path and gold_moves are parallel arrays whose elements refer to parsing steps\n",
    "    gold_configurations= (\n",
    "        []\n",
    "    )  # record two topmost stack tokens and first 2 buffer token for current step\n",
    "    gold_moves = (\n",
    "        []\n",
    "    )  # contains oracle (canonical) move for current step: 0 is left, 1 right, 2 shift, 3 reduce\n",
    "    gold_heads=[]\n",
    "    for tokens, head in zip(toks, heads):\n",
    "        conf=[]   \n",
    "        mov=[]\n",
    "\n",
    "        tokens = [\"<ROOT>\"] + tokens\n",
    "        head = [-1] + list(map(int,head))\n",
    "\n",
    "        if get_gold_path:  # only for training\n",
    "            conf, mov=generate_gold_path(tokens, head)\n",
    "            \n",
    "            \n",
    "        gold_configurations.append(conf)\n",
    "        gold_moves.append(mov)\n",
    "        gold_heads.append(head)\n",
    "\n",
    "    return gold_configurations, gold_moves,gold_heads\n",
    "  \n",
    "def prepare_batch(batch_data,get_gold_path=False):\n",
    "    global tokenizer\n",
    "    tok_sentences= tokenizer([\"<ROOT> \"+bd[\"text\"] for bd in batch_data], padding=True, return_tensors=\"pt\") # FIXME : add ROOT token\n",
    "    configurations, moves, gold = get_configurations(\n",
    "        [bd[\"tokens\"] for bd in batch_data],\n",
    "        [bd[\"head\"] for bd in batch_data],\n",
    "        get_gold_path) \n",
    "\n",
    "    return tok_sentences, configurations, moves, gold\n",
    "\n"
   ]
  },
  {
   "cell_type": "code",
   "execution_count": 72,
   "metadata": {},
   "outputs": [],
   "source": [
    "# processed_sample = tokenizer(train_dataset[\"text\"]) # input_ids token_type_ids attention_mask\n",
    "\n",
    "# processed_sample.update(get_oracledata(train_dataset[\"tokens\"], train_dataset[\"head\"])) # configurations moves\n",
    "\n",
    "# processed_sample.keys()\n"
   ]
  },
  {
   "attachments": {},
   "cell_type": "markdown",
   "metadata": {},
   "source": []
  },
  {
   "attachments": {},
   "cell_type": "markdown",
   "metadata": {},
   "source": [
    "## Dataloader\n"
   ]
  },
  {
   "cell_type": "code",
   "execution_count": 73,
   "metadata": {},
   "outputs": [],
   "source": [
    "train_dataloader = torch.utils.data.DataLoader( # type:ignore\n",
    "  train_dataset,\n",
    "  batch_size=BATCH_SIZE, \n",
    "  shuffle=True,\n",
    "  collate_fn=lambda x: prepare_batch(x, get_gold_path=True)\n",
    ")\n",
    "\n",
    "validation_dataloader = torch.utils.data.DataLoader( # type: ignore\n",
    "  validation_dataset,\n",
    "  batch_size=BATCH_SIZE,\n",
    "  shuffle=True,\n",
    "  collate_fn=lambda x: prepare_batch(x, get_gold_path=True)\n",
    ")\n",
    "\n",
    "test_dataloader = torch.utils.data.DataLoader( # type:ignore\n",
    "  test_dataset,\n",
    "  batch_size=BATCH_SIZE,\n",
    "  shuffle=True,\n",
    "  collate_fn=lambda x: prepare_batch(x, get_gold_path=False)\n",
    ")"
   ]
  },
  {
   "attachments": {},
   "cell_type": "markdown",
   "metadata": {},
   "source": [
    "# NET\n"
   ]
  },
  {
   "cell_type": "code",
   "execution_count": 74,
   "metadata": {},
   "outputs": [],
   "source": [
    "BATCH_SIZE = 32\n",
    "DIM_CONFIG = 2\n",
    "LSTM_ISBI = True\n",
    "BERT_SIZE = 768\n",
    "EMBEDDING_SIZE = BERT_SIZE\n",
    "DIM_CONFIG = 2\n",
    "LSTM_LAYERS = 1\n",
    "MLP_SIZE = 200\n",
    "CLASSES = 4\n",
    "DROPOUT = 0.2\n",
    "EPOCHS = 1 # 30\n",
    "LR = 0.001  # learning rate\n",
    "NUM_LABELS_OUT = 4"
   ]
  },
  {
   "cell_type": "code",
   "execution_count": 96,
   "metadata": {},
   "outputs": [
    {
     "name": "stderr",
     "output_type": "stream",
     "text": [
      "Some weights of the model checkpoint at bert-base-uncased were not used when initializing BertModel: ['cls.predictions.transform.LayerNorm.bias', 'cls.predictions.transform.LayerNorm.weight', 'cls.predictions.decoder.weight', 'cls.predictions.transform.dense.bias', 'cls.seq_relationship.bias', 'cls.seq_relationship.weight', 'cls.predictions.bias', 'cls.predictions.transform.dense.weight']\n",
      "- This IS expected if you are initializing BertModel from the checkpoint of a model trained on another task or with another architecture (e.g. initializing a BertForSequenceClassification model from a BertForPreTraining model).\n",
      "- This IS NOT expected if you are initializing BertModel from the checkpoint of a model that you expect to be exactly identical (initializing a BertForSequenceClassification model from a BertForSequenceClassification model).\n"
     ]
    }
   ],
   "source": [
    "from transformers import AutoModel\n",
    "\n",
    "#modelBert=AutoModel.from_pretrained('bert-base-uncased')\n",
    "\n",
    "class BERTNet(nn.Module):\n",
    "  def __init__(self,device) -> None:\n",
    "    super().__init__()\n",
    "    self.device=device\n",
    "    \n",
    "    self.embeddings = nn.Embedding(\n",
    "        len(tokenizer), EMBEDDING_SIZE, padding_idx=0\n",
    "    )\n",
    "    \n",
    "    self.bert = AutoModel.from_pretrained('bert-base-uncased')\n",
    "    self.bert.resize_token_embeddings(len(tokenizer))\n",
    "    self.w1=nn.Linear(DIM_CONFIG*BERT_SIZE, MLP_SIZE)\n",
    "    self.w2=nn.Linear(MLP_SIZE, CLASSES)\n",
    "    self.activation= nn.Tanh()\n",
    "    self.softmax=nn.Softmax(dim=-1)\n",
    "    self.dropout = nn.Dropout(DROPOUT)\n",
    "    \n",
    "  def forward(self, bertInput, configs):\n",
    "    #x=[self.dropout(self.embeddings(torch.tensor(s).to(self.device))) for s in bertInput]\n",
    "    bertInput=bertInput.to(self.device)\n",
    "    input_ids=bertInput['input_ids'].to(self.device)\n",
    "    attention_mask=bertInput['attention_mask'].to(self.device)\n",
    "    \n",
    "        # Apply the BERT model. This will return a sequence of hidden-states at the output of the last layer of the model.\n",
    "    outputs = self.bert(input_ids=input_ids, attention_mask=attention_mask)\n",
    "\n",
    "    # Get the last hidden state of the token `[CLS]` for each example. BERT gives this as the first token in the sequence.\n",
    "    cls_output = outputs.last_hidden_state#[:, 0, :]\n",
    "\n",
    "    # Apply dropout on cls_output (not on the input)\n",
    "    x = self.dropout(cls_output)\n",
    "    \n",
    "    print(x.shape)\n",
    "    \n",
    "\n",
    "model = BERTNet(device)"
   ]
  },
  {
   "attachments": {},
   "cell_type": "markdown",
   "metadata": {},
   "source": [
    "## run model\n"
   ]
  },
  {
   "cell_type": "code",
   "execution_count": null,
   "metadata": {},
   "outputs": [],
   "source": []
  },
  {
   "cell_type": "code",
   "execution_count": 97,
   "metadata": {},
   "outputs": [
    {
     "name": "stdout",
     "output_type": "stream",
     "text": [
      "Starting Epoch 0\n",
      "{'input_ids': tensor([[  101, 30522,  2019,  ...,     0,     0,     0],\n",
      "        [  101, 30522,  2009,  ...,     0,     0,     0],\n",
      "        [  101, 30522,  2023,  ...,     0,     0,     0],\n",
      "        ...,\n",
      "        [  101, 30522,  3513,  ...,     0,     0,     0],\n",
      "        [  101, 30522,  1996,  ...,     0,     0,     0],\n",
      "        [  101, 30522,  1996,  ...,     0,     0,     0]]), 'token_type_ids': tensor([[0, 0, 0,  ..., 0, 0, 0],\n",
      "        [0, 0, 0,  ..., 0, 0, 0],\n",
      "        [0, 0, 0,  ..., 0, 0, 0],\n",
      "        ...,\n",
      "        [0, 0, 0,  ..., 0, 0, 0],\n",
      "        [0, 0, 0,  ..., 0, 0, 0],\n",
      "        [0, 0, 0,  ..., 0, 0, 0]]), 'attention_mask': tensor([[1, 1, 1,  ..., 0, 0, 0],\n",
      "        [1, 1, 1,  ..., 0, 0, 0],\n",
      "        [1, 1, 1,  ..., 0, 0, 0],\n",
      "        ...,\n",
      "        [1, 1, 1,  ..., 0, 0, 0],\n",
      "        [1, 1, 1,  ..., 0, 0, 0],\n",
      "        [1, 1, 1,  ..., 0, 0, 0]])}\n",
      "Encoding(num_tokens=82, attributes=[ids, type_ids, tokens, offsets, attention_mask, special_tokens_mask, overflowing])\n",
      "torch.Size([32, 82, 768])\n"
     ]
    },
    {
     "ename": "TypeError",
     "evalue": "cross_entropy_loss(): argument 'input' (position 1) must be Tensor, not NoneType",
     "output_type": "error",
     "traceback": [
      "\u001b[0;31m---------------------------------------------------------------------------\u001b[0m",
      "\u001b[0;31mTypeError\u001b[0m                                 Traceback (most recent call last)",
      "Cell \u001b[0;32mIn[97], line 52\u001b[0m\n\u001b[1;32m     50\u001b[0m \u001b[39mfor\u001b[39;00m epoch \u001b[39min\u001b[39;00m \u001b[39mrange\u001b[39m(EPOCHS):\n\u001b[1;32m     51\u001b[0m     \u001b[39mprint\u001b[39m(\u001b[39m\"\u001b[39m\u001b[39mStarting Epoch\u001b[39m\u001b[39m\"\u001b[39m, epoch)\n\u001b[0;32m---> 52\u001b[0m     avg_train_loss \u001b[39m=\u001b[39m train(model, train_dataloader, criterion, optimizer)\n\u001b[1;32m     53\u001b[0m     val_uas \u001b[39m=\u001b[39m test(model, validation_dataloader)\n\u001b[1;32m     54\u001b[0m     \u001b[39mprint\u001b[39m(\n\u001b[1;32m     55\u001b[0m         \u001b[39m\"\u001b[39m\u001b[39mEpoch: \u001b[39m\u001b[39m{:3d}\u001b[39;00m\u001b[39m | avg_train_loss: \u001b[39m\u001b[39m{:5.3f}\u001b[39;00m\u001b[39m | dev_uas: \u001b[39m\u001b[39m{:5.3f}\u001b[39;00m\u001b[39m |\u001b[39m\u001b[39m\"\u001b[39m\u001b[39m.\u001b[39mformat(\n\u001b[1;32m     56\u001b[0m             epoch, avg_train_loss, val_uas\n\u001b[1;32m     57\u001b[0m         )\n\u001b[1;32m     58\u001b[0m     )\n",
      "Cell \u001b[0;32mIn[97], line 18\u001b[0m, in \u001b[0;36mtrain\u001b[0;34m(model, dataloader, criterion, optimizer)\u001b[0m\n\u001b[1;32m     11\u001b[0m \u001b[39m##out = model(input_ids=sentences['input_ids'].to(device), \u001b[39;00m\n\u001b[1;32m     12\u001b[0m \u001b[39m##    attention_mask=sentences['attention_mask'].to(device), \u001b[39;00m\n\u001b[1;32m     13\u001b[0m \u001b[39m##    paths)\u001b[39;00m\n\u001b[1;32m     15\u001b[0m labels \u001b[39m=\u001b[39m torch\u001b[39m.\u001b[39mtensor(\u001b[39msum\u001b[39m(moves, []))\u001b[39m.\u001b[39mto(\n\u001b[1;32m     16\u001b[0m     device\n\u001b[1;32m     17\u001b[0m )  \u001b[39m# sum(moves, []) flatten the array\u001b[39;00m\n\u001b[0;32m---> 18\u001b[0m loss \u001b[39m=\u001b[39m criterion(out, labels)\n\u001b[1;32m     19\u001b[0m count \u001b[39m+\u001b[39m\u001b[39m=\u001b[39m \u001b[39m1\u001b[39m\n\u001b[1;32m     20\u001b[0m total_loss \u001b[39m+\u001b[39m\u001b[39m=\u001b[39m loss\u001b[39m.\u001b[39mitem()\n",
      "File \u001b[0;32m~/.conda/envs/nlp/lib/python3.11/site-packages/torch/nn/modules/module.py:1501\u001b[0m, in \u001b[0;36mModule._call_impl\u001b[0;34m(self, *args, **kwargs)\u001b[0m\n\u001b[1;32m   1496\u001b[0m \u001b[39m# If we don't have any hooks, we want to skip the rest of the logic in\u001b[39;00m\n\u001b[1;32m   1497\u001b[0m \u001b[39m# this function, and just call forward.\u001b[39;00m\n\u001b[1;32m   1498\u001b[0m \u001b[39mif\u001b[39;00m \u001b[39mnot\u001b[39;00m (\u001b[39mself\u001b[39m\u001b[39m.\u001b[39m_backward_hooks \u001b[39mor\u001b[39;00m \u001b[39mself\u001b[39m\u001b[39m.\u001b[39m_backward_pre_hooks \u001b[39mor\u001b[39;00m \u001b[39mself\u001b[39m\u001b[39m.\u001b[39m_forward_hooks \u001b[39mor\u001b[39;00m \u001b[39mself\u001b[39m\u001b[39m.\u001b[39m_forward_pre_hooks\n\u001b[1;32m   1499\u001b[0m         \u001b[39mor\u001b[39;00m _global_backward_pre_hooks \u001b[39mor\u001b[39;00m _global_backward_hooks\n\u001b[1;32m   1500\u001b[0m         \u001b[39mor\u001b[39;00m _global_forward_hooks \u001b[39mor\u001b[39;00m _global_forward_pre_hooks):\n\u001b[0;32m-> 1501\u001b[0m     \u001b[39mreturn\u001b[39;00m forward_call(\u001b[39m*\u001b[39;49margs, \u001b[39m*\u001b[39;49m\u001b[39m*\u001b[39;49mkwargs)\n\u001b[1;32m   1502\u001b[0m \u001b[39m# Do not call functions when jit is used\u001b[39;00m\n\u001b[1;32m   1503\u001b[0m full_backward_hooks, non_full_backward_hooks \u001b[39m=\u001b[39m [], []\n",
      "File \u001b[0;32m~/.conda/envs/nlp/lib/python3.11/site-packages/torch/nn/modules/loss.py:1174\u001b[0m, in \u001b[0;36mCrossEntropyLoss.forward\u001b[0;34m(self, input, target)\u001b[0m\n\u001b[1;32m   1173\u001b[0m \u001b[39mdef\u001b[39;00m \u001b[39mforward\u001b[39m(\u001b[39mself\u001b[39m, \u001b[39minput\u001b[39m: Tensor, target: Tensor) \u001b[39m-\u001b[39m\u001b[39m>\u001b[39m Tensor:\n\u001b[0;32m-> 1174\u001b[0m     \u001b[39mreturn\u001b[39;00m F\u001b[39m.\u001b[39;49mcross_entropy(\u001b[39minput\u001b[39;49m, target, weight\u001b[39m=\u001b[39;49m\u001b[39mself\u001b[39;49m\u001b[39m.\u001b[39;49mweight,\n\u001b[1;32m   1175\u001b[0m                            ignore_index\u001b[39m=\u001b[39;49m\u001b[39mself\u001b[39;49m\u001b[39m.\u001b[39;49mignore_index, reduction\u001b[39m=\u001b[39;49m\u001b[39mself\u001b[39;49m\u001b[39m.\u001b[39;49mreduction,\n\u001b[1;32m   1176\u001b[0m                            label_smoothing\u001b[39m=\u001b[39;49m\u001b[39mself\u001b[39;49m\u001b[39m.\u001b[39;49mlabel_smoothing)\n",
      "File \u001b[0;32m~/.conda/envs/nlp/lib/python3.11/site-packages/torch/nn/functional.py:3029\u001b[0m, in \u001b[0;36mcross_entropy\u001b[0;34m(input, target, weight, size_average, ignore_index, reduce, reduction, label_smoothing)\u001b[0m\n\u001b[1;32m   3027\u001b[0m \u001b[39mif\u001b[39;00m size_average \u001b[39mis\u001b[39;00m \u001b[39mnot\u001b[39;00m \u001b[39mNone\u001b[39;00m \u001b[39mor\u001b[39;00m reduce \u001b[39mis\u001b[39;00m \u001b[39mnot\u001b[39;00m \u001b[39mNone\u001b[39;00m:\n\u001b[1;32m   3028\u001b[0m     reduction \u001b[39m=\u001b[39m _Reduction\u001b[39m.\u001b[39mlegacy_get_string(size_average, reduce)\n\u001b[0;32m-> 3029\u001b[0m \u001b[39mreturn\u001b[39;00m torch\u001b[39m.\u001b[39;49m_C\u001b[39m.\u001b[39;49m_nn\u001b[39m.\u001b[39;49mcross_entropy_loss(\u001b[39minput\u001b[39;49m, target, weight, _Reduction\u001b[39m.\u001b[39;49mget_enum(reduction), ignore_index, label_smoothing)\n",
      "\u001b[0;31mTypeError\u001b[0m: cross_entropy_loss(): argument 'input' (position 1) must be Tensor, not NoneType"
     ]
    }
   ],
   "source": [
    "def train(model, dataloader, criterion, optimizer):\n",
    "    model.train()  # setup model for training mode\n",
    "    total_loss = 0\n",
    "    count = 0\n",
    "    for batch in dataloader:\n",
    "        optimizer.zero_grad()\n",
    "        sentences, paths, moves, trees = batch\n",
    "        print(sentences)        print(sentences[0])\n",
    "        out = model(sentences, paths)\n",
    "        ##out = model(input_ids=sentences['input_ids'].to(device), \n",
    "        ##    attention_mask=sentences['attention_mask'].to(device), \n",
    "        ##    paths)\n",
    "\n",
    "        labels = torch.tensor(sum(moves, [])).to(\n",
    "            device\n",
    "        )  # sum(moves, []) flatten the array\n",
    "        loss = criterion(out, labels)\n",
    "        count += 1\n",
    "        total_loss += loss.item()\n",
    "        loss.backward()\n",
    "        optimizer.step()\n",
    "    return total_loss / count\n",
    "\n",
    "def evaluate(gold, preds):\n",
    "    total = 0\n",
    "    correct = 0\n",
    "    for g, p in zip(gold, preds):\n",
    "        for i in range(1, len(g)):\n",
    "            total += 1\n",
    "            if g[i] == p[i]:\n",
    "                correct += 1\n",
    "    return correct / total\n",
    "\n",
    "def test(model, dataloader):\n",
    "    model.eval()\n",
    "    gold = []\n",
    "    preds = []\n",
    "    for batch in dataloader:\n",
    "        sentences, paths, moves, trees = batch\n",
    "        with torch.no_grad():\n",
    "            pred = model.infere(sentences)\n",
    "            gold += trees\n",
    "            preds += pred\n",
    "    return evaluate(gold, preds)\n",
    "\n",
    "\n",
    "criterion = nn.CrossEntropyLoss()\n",
    "optimizer = torch.optim.Adam(model.parameters(), lr=LR)\n",
    "for epoch in range(EPOCHS):\n",
    "    print(\"Starting Epoch\", epoch)\n",
    "    avg_train_loss = train(model, train_dataloader, criterion, optimizer)\n",
    "    val_uas = test(model, validation_dataloader)\n",
    "    print(\n",
    "        \"Epoch: {:3d} | avg_train_loss: {:5.3f} | dev_uas: {:5.3f} |\".format(\n",
    "            epoch, avg_train_loss, val_uas\n",
    "        )\n",
    "    )\n",
    "    #save the model on pytorch format"
   ]
  }
 ],
 "metadata": {
  "kernelspec": {
   "display_name": "nlp",
   "language": "python",
   "name": "python3"
  },
  "language_info": {
   "codemirror_mode": {
    "name": "ipython",
    "version": 3
   },
   "file_extension": ".py",
   "mimetype": "text/x-python",
   "name": "python",
   "nbconvert_exporter": "python",
   "pygments_lexer": "ipython3",
   "version": "3.11.3"
  },
  "orig_nbformat": 4
 },
 "nbformat": 4,
 "nbformat_minor": 2
}
